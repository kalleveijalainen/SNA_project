{
 "cells": [
  {
   "cell_type": "code",
   "execution_count": 56,
   "id": "demanding-guest",
   "metadata": {
    "scrolled": true
   },
   "outputs": [
    {
     "name": "stdout",
     "output_type": "stream",
     "text": [
      "472 1218\n",
      "384073 total number of tweets\n",
      "227.2621301775148 average tweets per news\n"
     ]
    }
   ],
   "source": [
    "import json\n",
    "\n",
    "review_path = 'C:\\\\Users\\\\kalle\\\\OneDrive - Oulun yliopisto\\\\Courses\\\\IntroductionToSocialNetworkAnalysis\\\\project\\\\FakeHealth\\\\dataset\\\\reviews\\\\HealthStory.json'\n",
    "review_file = open(review_path)\n",
    "review_data = json.load(review_file)\n",
    "\n",
    "engagements_path = 'C:\\\\Users\\\\kalle\\\\OneDrive - Oulun yliopisto\\\\Courses\\\\IntroductionToSocialNetworkAnalysis\\\\project\\\\FakeHealth\\\\dataset\\\\engagements\\HealthStory.json'\n",
    "engagements_file = open(engagements_path)\n",
    "engagements_data = json.load(engagements_file)\n",
    "\n",
    "\n",
    "# print the number of fake and real news in the HealthStory dataset\n",
    "# news are labeled as 'fake', if the rating is under 3\n",
    "fake = 0\n",
    "real = 0\n",
    "for i, j in enumerate(review_data):\n",
    "    if review_data[i].get(\"rating\") < 3:\n",
    "        fake += 1\n",
    "    else:\n",
    "        real += 1\n",
    "print(fake, real)\n",
    "\n",
    "# print the total number of tweets and average tweets per news\n",
    "total_tweets = 0\n",
    "for i, j in enumerate(engagements_data):\n",
    "    total_tweets += len(list(engagements_data.values())[i].get(\"tweets\"))\n",
    "\n",
    "avg_tweets_per_news = total_tweets / len(list(engagements_data.values()))\n",
    "print(total_tweets, \"total number of tweets\")\n",
    "print(avg_tweets_per_news, \"average tweets per news\")"
   ]
  },
  {
   "cell_type": "code",
   "execution_count": null,
   "id": "brown-parking",
   "metadata": {},
   "outputs": [],
   "source": []
  },
  {
   "cell_type": "code",
   "execution_count": null,
   "id": "improved-capitol",
   "metadata": {},
   "outputs": [],
   "source": []
  }
 ],
 "metadata": {
  "kernelspec": {
   "display_name": "Python 3",
   "language": "python",
   "name": "python3"
  },
  "language_info": {
   "codemirror_mode": {
    "name": "ipython",
    "version": 3
   },
   "file_extension": ".py",
   "mimetype": "text/x-python",
   "name": "python",
   "nbconvert_exporter": "python",
   "pygments_lexer": "ipython3",
   "version": "3.8.8"
  }
 },
 "nbformat": 4,
 "nbformat_minor": 5
}
