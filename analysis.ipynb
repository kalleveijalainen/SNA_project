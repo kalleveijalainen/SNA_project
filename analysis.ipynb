{
 "cells": [
  {
   "cell_type": "code",
   "execution_count": 1,
   "id": "specific-transparency",
   "metadata": {},
   "outputs": [],
   "source": [
    "# The paper this analysis is related to:\n",
    "\n",
    "#@article{dai2020ginger,\n",
    "#  title={Ginger Cannot Cure Cancer: Battling Fake Health News with a Comprehensive Data Repository},\n",
    "#  author={Dai, Enyan and Sun, Yiwei and Wang, Suhang},\n",
    "#  journal={arXiv preprint arXiv:2002.00837},\n",
    "#  year={2020}\n",
    "#}\n",
    "\n",
    "\n",
    "\n",
    "\n",
    "import json\n",
    "#from scipy import skew\n",
    "from scipy import stats\n",
    "\n",
    "review_path = 'C:\\\\_school_but_not_in_onedrive\\\\IntroductionToSocialNetworkAnalysis\\\\project\\\\FakeHealth\\\\dataset\\\\reviews\\\\HealthStory.json'\n",
    "review_file = open(review_path)\n",
    "review_data = json.load(review_file)\n",
    "\n",
    "engagements_path = 'C:\\\\_school_but_not_in_onedrive\\\\IntroductionToSocialNetworkAnalysis\\\\project\\\\FakeHealth\\\\dataset\\\\engagements\\\\HealthStory.json'\n",
    "engagements_file = open(engagements_path)\n",
    "engagements_data = json.load(engagements_file)"
   ]
  },
  {
   "cell_type": "code",
   "execution_count": 2,
   "id": "demanding-guest",
   "metadata": {
    "scrolled": true
   },
   "outputs": [
    {
     "name": "stdout",
     "output_type": "stream",
     "text": [
      "472 1218\n",
      "384073 total number of tweets\n",
      "227.2621301775148 average tweets per news\n"
     ]
    }
   ],
   "source": [
    "# print the number of fake and real news in the HealthStory dataset\n",
    "# news are labeled as 'fake', if the rating is under 3\n",
    "fake = 0\n",
    "real = 0\n",
    "for i, j in enumerate(review_data):\n",
    "    if review_data[i].get(\"rating\") < 3:\n",
    "        fake += 1\n",
    "    else:\n",
    "        real += 1\n",
    "print(fake, real)\n",
    "\n",
    "# print the total number of tweets and average tweets per news\n",
    "total_tweets = 0\n",
    "for i, j in enumerate(engagements_data):\n",
    "    total_tweets += len(list(engagements_data.values())[i].get(\"tweets\"))\n",
    "\n",
    "avg_tweets_per_news = total_tweets / len(list(engagements_data.values()))\n",
    "print(total_tweets, \"total number of tweets\")\n",
    "print(avg_tweets_per_news, \"average tweets per news\")\n"
   ]
  },
  {
   "cell_type": "code",
   "execution_count": 3,
   "id": "brown-parking",
   "metadata": {},
   "outputs": [
    {
     "name": "stdout",
     "output_type": "stream",
     "text": [
      "Standard deviation of tweets per news:  19.602196305516383\n",
      "Kurtosis of tweets per news:  -1.5000000000000013\n",
      "Skewness of tweets per news:  -0.4812898899711523\n"
     ]
    }
   ],
   "source": [
    "# all values are from the paper stated in the beginning of this document\n",
    "\n",
    "# Average tweets per news\n",
    "\n",
    "sd_of_avg_tweets_per_news = stats.tstd([227.26,237.87,199.88])\n",
    "print(\"Standard deviation of tweets per news: \", sd_of_avg_tweets_per_news)\n",
    "\n",
    "krt_of_tweets_per_news = stats.kurtosis([227.26,237.87,199.88])\n",
    "print(\"Kurtosis of tweets per news: \", krt_of_tweets_per_news)\n",
    "\n",
    "skw_of_tweets_per_news = stats.skew([227.26,237.87,199.88])\n",
    "print(\"Skewness of tweets per news: \", skw_of_tweets_per_news)"
   ]
  },
  {
   "cell_type": "code",
   "execution_count": 4,
   "id": "cross-convenience",
   "metadata": {},
   "outputs": [
    {
     "name": "stdout",
     "output_type": "stream",
     "text": [
      "Standard deviation of tweets per news:  0.01527525231651948\n",
      "Kurtosis of tweets per news:  -1.5000000000000089\n",
      "Skewness of tweets per user per news:  0.3818017741605885\n"
     ]
    }
   ],
   "source": [
    "# Average tweets per user per news\n",
    "\n",
    "sd_of_avg_tweets_per_user_per_news = stats.tstd([1.21,1.20,1.23])\n",
    "print(\"Standard deviation of tweets per news: \", sd_of_avg_tweets_per_user_per_news)\n",
    "\n",
    "krt_of_tweets_per_user_per_news = stats.kurtosis([1.21,1.20,1.23])\n",
    "print(\"Kurtosis of tweets per news: \", krt_of_tweets_per_user_per_news)\n",
    "\n",
    "skw_of_tweets_per_user_per_news = stats.skew([1.21,1.20,1.23])\n",
    "print(\"Skewness of tweets per user per news: \", skw_of_tweets_per_user_per_news)"
   ]
  },
  {
   "cell_type": "code",
   "execution_count": 5,
   "id": "israeli-guinea",
   "metadata": {},
   "outputs": [
    {
     "name": "stdout",
     "output_type": "stream",
     "text": [
      "Standard deviation of average replies per news:  1.1399268982409934\n",
      "Kurtosis of average replies per news:  -1.4999999999999962\n",
      "Skewness deviation of average replies per news:  -0.4791636738194193\n"
     ]
    }
   ],
   "source": [
    "# Average replies per news\n",
    "\n",
    "SD_of_Average_replies_per_news = stats.tstd([16.33, 16.95, 14.74])\n",
    "print(\"Standard deviation of average replies per news: \", SD_of_Average_replies_per_news)\n",
    "\n",
    "kurtosis_of_Average_replies_per_news = stats.kurtosis([16.33, 16.95, 14.74])\n",
    "print(\"Kurtosis of average replies per news: \", kurtosis_of_Average_replies_per_news)\n",
    "\n",
    "skewness_of_Average_replies_per_news = stats.skew([16.33, 16.95, 14.74])\n",
    "print(\"Skewness deviation of average replies per news: \", skewness_of_Average_replies_per_news)"
   ]
  },
  {
   "cell_type": "code",
   "execution_count": 6,
   "id": "inside-weapon",
   "metadata": {},
   "outputs": [
    {
     "name": "stdout",
     "output_type": "stream",
     "text": [
      "Standard deviation of average replies per tweets:  0.001527525231651948\n",
      "Kurtosis deviation of average replies per tweets:  -1.4999999999999887\n",
      "Skewness deviation of average replies per tweets:  0.38180177416062844\n"
     ]
    }
   ],
   "source": [
    "# Average replies per tweets\n",
    "\n",
    "SD_of_Average_replies_per_tweets = stats.tstd([0.072, 0.071, 0.074])\n",
    "print(\"Standard deviation of average replies per tweets: \", SD_of_Average_replies_per_tweets)\n",
    "\n",
    "kurtosis_of_Average_replies_per_tweets = stats.kurtosis([0.072, 0.071, 0.074])\n",
    "print(\"Kurtosis deviation of average replies per tweets: \", kurtosis_of_Average_replies_per_tweets)\n",
    "\n",
    "skewness_of_Average_replies_per_tweets = stats.skew([0.072, 0.071, 0.074])\n",
    "print(\"Skewness deviation of average replies per tweets: \", skewness_of_Average_replies_per_tweets)"
   ]
  },
  {
   "cell_type": "code",
   "execution_count": 7,
   "id": "bound-roommate",
   "metadata": {},
   "outputs": [
    {
     "name": "stdout",
     "output_type": "stream",
     "text": [
      "Standard deviation of average retweets per news:  8.740905750168762\n",
      "Kurtosis of average retweets per news:  -1.5000000000000002\n",
      "Skewness of average retweets per news:  -0.4813964468002661\n"
     ]
    }
   ],
   "source": [
    "# Average retweets per news\n",
    "\n",
    "SD_of_Average_retweets_per_news = stats.tstd([71.43, 76.16, 59.22])\n",
    "print(\"Standard deviation of average retweets per news: \", SD_of_Average_retweets_per_news)\n",
    "\n",
    "kurtosis_of_Average_retweets_per_news = stats.kurtosis([71.43, 76.16, 59.22])\n",
    "print(\"Kurtosis of average retweets per news: \", kurtosis_of_Average_retweets_per_news)\n",
    "\n",
    "skewness_of_Average_retweets_per_news = stats.skew([71.43, 76.16, 59.22])\n",
    "print(\"Skewness of average retweets per news: \", skewness_of_Average_retweets_per_news)"
   ]
  },
  {
   "cell_type": "code",
   "execution_count": 8,
   "id": "combined-astronomy",
   "metadata": {},
   "outputs": [
    {
     "name": "stdout",
     "output_type": "stream",
     "text": [
      "Standard deviation of average retweets per tweets:  0.012489995996796807\n",
      "Kurtosis of average retweets per tweets:  -1.5000000000000002\n",
      "Skewness of average retweets per tweets:  -0.5280049792181877\n"
     ]
    }
   ],
   "source": [
    "# Average retweets per tweets\n",
    "\n",
    "SD_of_Average_retweets_per_tweets = stats.tstd([0.314, 0.320, 0.296])\n",
    "print(\"Standard deviation of average retweets per tweets: \", SD_of_Average_retweets_per_tweets)\n",
    "\n",
    "kurtosis_of_Average_retweets_per_tweets = stats.kurtosis([0.314, 0.320, 0.296])\n",
    "print(\"Kurtosis of average retweets per tweets: \", kurtosis_of_Average_retweets_per_tweets)\n",
    "\n",
    "skewness_of_Average_retweets_per_tweets = stats.skew([0.314, 0.320, 0.296])\n",
    "print(\"Skewness of average retweets per tweets: \", skewness_of_Average_retweets_per_tweets)"
   ]
  },
  {
   "cell_type": "code",
   "execution_count": 9,
   "id": "dramatic-position",
   "metadata": {
    "scrolled": false
   },
   "outputs": [
    {
     "name": "stdout",
     "output_type": "stream",
     "text": [
      "story_reviews_00000\n",
      "dict_keys(['tweets', 'replies', 'retweets'])\n",
      "[1081498079432507393, 1097614267031998470, 1119224523608473603, 1074490872027324417, 1074335369401896961, 1119345003258576896, 1074327999896580096, 1084933482688724992, 1074230934201909248, 1074575407771541505, 1078363456980557824, 1074235314338701312, 1074769675865583616, 1074232095139090432, 1074463135304581121, 1074247475765096448, 1119224341403766784, 1079062043108540417, 1074238641176801280, 1074349675522785280, 1074660037556142085, 1075087992673452033, 1074348443315757057, 1074645224264294400, 1074239649130921987, 1074761677231525889, 1074342547160555520, 1074726898620686337, 1075430132179976193, 1078621333720838144, 1074767877142708224, 1076415557723930625, 1103393314026545152, 1074638376903548929, 1074513928300965888, 1074254181962272769, 1075037974520320000, 1074501362845696000, 1076465038079283200, 1119224210201677825, 1074737377979977728, 1119224719474155521, 1119224437218344960, 1119224528209612801, 1119345295492571136, 1075452740954861568, 1074758055450030080, 1081105478061445120, 1074779271535738880, 1074410897827880960, 1074396090760421378, 1074265997346000896, 1074741285850898432, 1084799853262262272, 1074721371240964096, 1076024972798316550, 1074946327879057409, 1074571194853191680, 1080496948216582144, 1074422112939577347, 1074610130958856192, 1074741285716680706, 1077494288035049472, 1074231967443550208, 1076161450396270593, 1074574591601848322, 1074372383455305731, 1074585632595431424, 1104562559426985984, 1074259264875704320, 1080855555273515015, 1075390527380643840, 1074351507380801538, 1075148799293706242, 1084933230602665985, 1080950694708940807, 1074637776736448512, 1074651687732854785, 1076233104187109376, 1074567181277503489, 1074318004048023552, 1074971307945664513, 1075003399236546560, 1074349815524442112, 1074268481422589952, 1119224470026313728, 1112144294196977664, 1074590024920952832, 1074575539577458688, 1084812400141000704, 1075297690450362368, 1075016880929296389, 1076976835966263296, 1074269267674259457, 1090424364644880384, 1074248790679244801, 1074330718497574913, 1077874427239518209, 1075707167783546880, 1119224298823090178, 1074591812587790336, 1074744254486986752, 1074276187579539456, 1074487044045451266, 1117719564928811009, 1076233103025324034, 1074438530955395072, 1074477592458219521, 1074625665121611777, 1075746738160500736, 1074236459551522818, 1075089311392038914, 1075526250893062144, 1074446002315296768, 1110783192842362880, 1074686177272315911, 1078335073571782656, 1074361918108905472, 1074286520406867968, 1078309780328898561, 1074669049592844289, 1074714775559528448, 1074318278527463426, 1074253029317046272, 1082234208200916992, 1075437358282104832, 1077744299427663872, 1075798334760239109, 1074268705327116289, 1076185345480286208, 1080534228528480257, 1074629080363008001, 1074233714345951232, 1074809562824359936, 1075376921515577349, 1074667772003696640, 1074804342132224000, 1076614133850746881, 1078333440792113154, 1074254270260760577, 1074308904383905792, 1074407721989013504, 1075898265172959232, 1076993105570816002, 1075815596854558720, 1075798110947946497, 1076125139341901824, 1074702745452593152, 1075134747985305602, 1075518395527938048, 1074236988121907200, 1075427287317790720, 1077744214836940800, 1075897444377001984, 1074636977528545280, 1131806510533816321, 1075555381311668225, 1077533265899282432, 1084535170072498178, 1074749847322775552, 1074377125501771776, 1076964670639144960, 1075374074862260224, 1074578722576044037, 1074683055011520512, 1075120805527384066, 1074293125223456769, 1074366304705003520, 1074652688825098240, 1074575385218699264, 1074268178019246080, 1077386158827540480, 1076233101926379520, 1079745278578696192, 1074232330934517760, 1075517636556062720, 1074741291613872128, 1076630719689048064, 1075006347958198272, 1076924160977317889, 1074261464662323202, 1074376128209608704, 1074379372784697344, 1074256840819597313, 1080841379000008705, 1119345246595366917, 1084812428100190209, 1074362733787734016, 1076932471680315392, 1076202292045582336, 1074638629451063299, 1078351112690954241, 1084933335493894144, 1074272881058701312, 1116098639905075202, 1074558696254885889, 1074233929421467648, 1074348499049897984, 1074235120603656192, 1076309852920709120, 1074395890050367488, 1114916428975673344, 1074578169217409024, 1078666886005575680, 1074719652037754881, 1119345000230395904, 1074331599762788353, 1074273190615097344, 1074630096370192385, 1074564856928456704, 1083378274133266432, 1074270571351957505]\n"
     ]
    }
   ],
   "source": [
    "# Assign a single user id for each news in Fake and Real dataset and use Twitter API to retrieve the\n",
    "# number of followers and followees.\n",
    "\n",
    "fake = []\n",
    "real = []\n",
    "fake_assigned = []\n",
    "real_assigned = []\n",
    "for i, j in enumerate(review_data):\n",
    "    if review_data[i].get(\"rating\") < 3:\n",
    "        temp = []\n",
    "        temp.append(review_data[i].get(\"news_id\"))\n",
    "        fake.append(list)\n",
    "    else:\n",
    "        temp = []\n",
    "        temp.append(review_data[i].get(\"news_id\"))\n",
    "        real.append(list)\n",
    "\n",
    "#while (len(fake) + len(real)) != 0:\n",
    "fake_news = fake.pop()\n",
    "print(list(engagements_data)[0], \"first story of the dict\")\n",
    "print(list(engagements_data.values())[0].get(\"tweets\"))"
   ]
  }
 ],
 "metadata": {
  "kernelspec": {
   "display_name": "Python 3",
   "language": "python",
   "name": "python3"
  },
  "language_info": {
   "codemirror_mode": {
    "name": "ipython",
    "version": 3
   },
   "file_extension": ".py",
   "mimetype": "text/x-python",
   "name": "python",
   "nbconvert_exporter": "python",
   "pygments_lexer": "ipython3",
   "version": "3.8.8"
  }
 },
 "nbformat": 4,
 "nbformat_minor": 5
}
